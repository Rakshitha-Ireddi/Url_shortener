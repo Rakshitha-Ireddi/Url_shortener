{
 "cells": [
  {
   "cell_type": "code",
   "execution_count": 1,
   "id": "32396ae6",
   "metadata": {},
   "outputs": [
    {
     "name": "stdout",
     "output_type": "stream",
     "text": [
      "Requirement already satisfied: pyshorteners in c:\\users\\iredd\\anaconda3\\lib\\site-packages (1.0.1)\n",
      "Requirement already satisfied: requests in c:\\users\\iredd\\anaconda3\\lib\\site-packages (from pyshorteners) (2.31.0)\n",
      "Requirement already satisfied: charset-normalizer<4,>=2 in c:\\users\\iredd\\anaconda3\\lib\\site-packages (from requests->pyshorteners) (2.0.4)\n",
      "Requirement already satisfied: idna<4,>=2.5 in c:\\users\\iredd\\anaconda3\\lib\\site-packages (from requests->pyshorteners) (3.4)\n",
      "Requirement already satisfied: urllib3<3,>=1.21.1 in c:\\users\\iredd\\anaconda3\\lib\\site-packages (from requests->pyshorteners) (1.26.16)\n",
      "Requirement already satisfied: certifi>=2017.4.17 in c:\\users\\iredd\\anaconda3\\lib\\site-packages (from requests->pyshorteners) (2023.7.22)\n",
      "Note: you may need to restart the kernel to use updated packages.\n"
     ]
    }
   ],
   "source": [
    "pip install pyshorteners"
   ]
  },
  {
   "cell_type": "code",
   "execution_count": 2,
   "id": "ecff110e",
   "metadata": {},
   "outputs": [
    {
     "name": "stdout",
     "output_type": "stream",
     "text": [
      "Enter the Long Link:>>https://www.amazon.in/?&ext_vrnc=hi&tag=googhydrabk1-21&ref=pd_sl_7hz2t19t5c_e&adgrpid=58355126069&hvpone=&hvptwo=&hvadid=610644601173&hvpos=&hvnetw=g&hvrand=12006761404354041280&hvqmt=e&hvdev=c&hvdvcmdl=&hvlocint=&hvlocphy=9184631&hvtargid=kwd-10573980&hydadcr=14453_2316415\n",
      "This is your short link:>>  https://tinyurl.com/26zz64zk\n"
     ]
    }
   ],
   "source": [
    "from pyshorteners import *\n",
    "\n",
    "url=input(\"Enter the Long Link:>>\")\n",
    "#Short_link(\"Short Link is: \")\n",
    "\n",
    "print('This is your short link:>> ',Shortener().tinyurl.short(url))"
   ]
  },
  {
   "cell_type": "code",
   "execution_count": null,
   "id": "b253cefb",
   "metadata": {},
   "outputs": [],
   "source": []
  }
 ],
 "metadata": {
  "kernelspec": {
   "display_name": "Python 3 (ipykernel)",
   "language": "python",
   "name": "python3"
  },
  "language_info": {
   "codemirror_mode": {
    "name": "ipython",
    "version": 3
   },
   "file_extension": ".py",
   "mimetype": "text/x-python",
   "name": "python",
   "nbconvert_exporter": "python",
   "pygments_lexer": "ipython3",
   "version": "3.11.4"
  }
 },
 "nbformat": 4,
 "nbformat_minor": 5
}
